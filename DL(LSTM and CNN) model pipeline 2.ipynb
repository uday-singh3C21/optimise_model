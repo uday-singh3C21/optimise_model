{
 "cells": [
  {
   "cell_type": "code",
   "execution_count": 1,
   "metadata": {
    "id": "FCX39ZolRXlQ"
   },
   "outputs": [],
   "source": [
    "import pandas as pd\n",
    "import numpy as np\n",
    "import re\n",
    "import string\n",
    "import tensorflow as tf\n",
    "from tensorflow.keras.preprocessing.text import Tokenizer\n",
    "from tensorflow.keras.preprocessing.sequence import pad_sequences\n",
    "from sklearn.model_selection import train_test_split"
   ]
  },
  {
   "cell_type": "code",
   "execution_count": 3,
   "metadata": {
    "id": "-MNqp9sTSkGi"
   },
   "outputs": [],
   "source": [
    "# Load dataset\n",
    "FILE_PATH = \"IndianFinancialNews_with_sentiment.csv\"\n",
    "df = pd.read_csv(FILE_PATH)"
   ]
  },
  {
   "cell_type": "code",
   "execution_count": 5,
   "metadata": {
    "id": "Gda-ZUcySgUr"
   },
   "outputs": [],
   "source": [
    "# ------------------------- #\n",
    "# 🔹 Text Preprocessing\n",
    "# ------------------------- #\n",
    "def clean_text(text):\n",
    "    text = text.lower()  # Convert to lowercase\n",
    "    text = re.sub(r'\\d+', '', text)  # Remove numbers\n",
    "    text = text.translate(str.maketrans('', '', string.punctuation))  # Remove punctuation\n",
    "    text = re.sub(r'\\s+', ' ', text).strip()  # Remove extra spaces\n",
    "    return text\n",
    "\n",
    "df[\"Cleaned_Text\"] = df[\"Text\"].apply(clean_text)"
   ]
  },
  {
   "cell_type": "code",
   "execution_count": 7,
   "metadata": {
    "id": "AfzIzFnHSVLY"
   },
   "outputs": [],
   "source": [
    "# ------------------------- #\n",
    "# 🔹 Convert Labels to Numeric\n",
    "# ------------------------- #\n",
    "label_mapping = {\"positive\": 1, \"negative\": 0, \"neutral\": 2}\n",
    "df[\"Sentiment_Label\"] = df[\"Sentiment\"].map(label_mapping)"
   ]
  },
  {
   "cell_type": "code",
   "execution_count": 9,
   "metadata": {
    "id": "_z2WAYlRSLJ3"
   },
   "outputs": [],
   "source": [
    "# ------------------------- #\n",
    "# 🔹 Tokenization & Padding\n",
    "# ------------------------- #\n",
    "MAX_WORDS = 10000  # Vocabulary size\n",
    "MAX_LEN = 100  # Max length of each news article\n",
    "\n",
    "tokenizer = Tokenizer(num_words=MAX_WORDS, oov_token=\"<OOV>\")\n",
    "tokenizer.fit_on_texts(df[\"Cleaned_Text\"])"
   ]
  },
  {
   "cell_type": "code",
   "execution_count": 11,
   "metadata": {
    "id": "6sHyxw-pSHvA"
   },
   "outputs": [],
   "source": [
    "# Convert text to sequences\n",
    "sequences = tokenizer.texts_to_sequences(df[\"Cleaned_Text\"])\n",
    "padded_sequences = pad_sequences(sequences, maxlen=MAX_LEN, padding=\"post\", truncating=\"post\")"
   ]
  },
  {
   "cell_type": "code",
   "execution_count": 13,
   "metadata": {
    "id": "9A7w67ODSCx2"
   },
   "outputs": [],
   "source": [
    "# ------------------------- #\n",
    "# 🔹 Train-Test Split\n",
    "# ------------------------- #\n",
    "X_train, X_test, y_train, y_test = train_test_split(padded_sequences, df[\"Sentiment_Label\"], test_size=0.2, random_state=42)"
   ]
  },
  {
   "cell_type": "code",
   "execution_count": 15,
   "metadata": {
    "id": "13mosJtdR9Aa"
   },
   "outputs": [],
   "source": [
    "# Save Tokenizer for future use\n",
    "import pickle\n",
    "with open(\"tokenizer.pkl\", \"wb\") as f:\n",
    "    pickle.dump(tokenizer, f)"
   ]
  },
  {
   "cell_type": "code",
   "execution_count": 20,
   "metadata": {
    "colab": {
     "base_uri": "https://localhost:8080/"
    },
    "executionInfo": {
     "elapsed": 689,
     "status": "ok",
     "timestamp": 1739300096218,
     "user": {
      "displayName": "krishna kumar",
      "userId": "12899759664944682923"
     },
     "user_tz": -330
    },
    "id": "zk8HEOUlR8Hh",
    "outputId": "cc08493b-32fc-4d52-ea5d-fee4307b16b8"
   },
   "outputs": [
    {
     "name": "stdout",
     "output_type": "stream",
     "text": [
      "Preprocessing complete! Data saved as 'preprocessed_data.npz'\n"
     ]
    }
   ],
   "source": [
    "# Save preprocessed data\n",
    "np.savez_compressed(\"preprocessed_data.npz\", X_train=X_train, X_test=X_test, y_train=y_train, y_test=y_test)\n",
    "\n",
    "print(f\"Preprocessing complete! Data saved as 'preprocessed_data.npz'\")"
   ]
  },
  {
   "cell_type": "markdown",
   "metadata": {
    "id": "pTm_P-kyS2aY"
   },
   "source": [
    "How to Run the Script and check the output\n"
   ]
  },
  {
   "cell_type": "markdown",
   "metadata": {
    "id": "dQxU4TAZTINX"
   },
   "source": [
    "**Train LSTM Model for Sentiment Analysis**"
   ]
  },
  {
   "cell_type": "code",
   "execution_count": 22,
   "metadata": {
    "id": "qt_a7hu1TKX8"
   },
   "outputs": [],
   "source": [
    "import numpy as np\n",
    "import tensorflow as tf\n",
    "from tensorflow.keras.models import Sequential\n",
    "from tensorflow.keras.layers import Embedding, LSTM, Dense, Dropout\n",
    "from tensorflow.keras.optimizers import Adam\n",
    "import pickle"
   ]
  },
  {
   "cell_type": "code",
   "execution_count": 24,
   "metadata": {
    "id": "R4mqVT8NTPLl"
   },
   "outputs": [],
   "source": [
    "# ------------------------- #\n",
    "# 🔹 Load Preprocessed Data\n",
    "# ------------------------- #\n",
    "data = np.load(\"preprocessed_data.npz\")\n",
    "X_train, X_test, y_train, y_test = data[\"X_train\"], data[\"X_test\"], data[\"y_train\"], data[\"y_test\"]\n"
   ]
  },
  {
   "cell_type": "code",
   "execution_count": 26,
   "metadata": {
    "id": "iwdetAgGTTEN"
   },
   "outputs": [],
   "source": [
    "# Load Tokenizer\n",
    "with open(\"tokenizer.pkl\", \"rb\") as f:\n",
    "    tokenizer = pickle.load(f)\n",
    "\n",
    "VOCAB_SIZE = 10000  # Same as in preprocessing\n",
    "MAX_LEN = 100  # Same as in preprocessing\n",
    "EMBEDDING_DIM = 128  # Word embedding size"
   ]
  },
  {
   "cell_type": "code",
   "execution_count": 28,
   "metadata": {
    "colab": {
     "base_uri": "https://localhost:8080/"
    },
    "executionInfo": {
     "elapsed": 75,
     "status": "ok",
     "timestamp": 1739300117926,
     "user": {
      "displayName": "krishna kumar",
      "userId": "12899759664944682923"
     },
     "user_tz": -330
    },
    "id": "9DK2E8BlT2wH",
    "outputId": "398b486c-1d4a-445d-a8b2-1d4ab2513c3f"
   },
   "outputs": [
    {
     "name": "stderr",
     "output_type": "stream",
     "text": [
      "/opt/anaconda3/lib/python3.12/site-packages/keras/src/layers/core/embedding.py:90: UserWarning: Argument `input_length` is deprecated. Just remove it.\n",
      "  warnings.warn(\n"
     ]
    }
   ],
   "source": [
    "# ------------------------- #\n",
    "# 🔹 Define LSTM Model\n",
    "# ------------------------- #\n",
    "model = Sequential([\n",
    "    Embedding(VOCAB_SIZE, EMBEDDING_DIM, input_length=MAX_LEN),\n",
    "    LSTM(128, return_sequences=True),\n",
    "    Dropout(0.3),\n",
    "    LSTM(64),\n",
    "    Dropout(0.3),\n",
    "    Dense(32, activation=\"relu\"),\n",
    "    Dense(3, activation=\"softmax\")  # 3 classes: positive, negative, neutral\n",
    "])\n",
    "\n",
    "model.compile(loss=\"sparse_categorical_crossentropy\", optimizer=Adam(learning_rate=0.001), metrics=[\"accuracy\"])\n"
   ]
  },
  {
   "cell_type": "code",
   "execution_count": 30,
   "metadata": {
    "id": "gpUcXMjQUPme"
   },
   "outputs": [],
   "source": [
    "# ------------------------- #\n",
    "# 🔹 Convert Labels to Numeric\n",
    "# ------------------------- #\n",
    "label_mapping = {\"positive\": 2, \"negative\": 0, \"neutral\": 1}  # Changed mapping\n",
    "df[\"Sentiment_Label\"] = df[\"Sentiment\"].map(label_mapping)"
   ]
  },
  {
   "cell_type": "code",
   "execution_count": 32,
   "metadata": {
    "colab": {
     "base_uri": "https://localhost:8080/"
    },
    "executionInfo": {
     "elapsed": 3727792,
     "status": "ok",
     "timestamp": 1739303850162,
     "user": {
      "displayName": "krishna kumar",
      "userId": "12899759664944682923"
     },
     "user_tz": -330
    },
    "id": "4yGd0BZsT-ps",
    "outputId": "c59f1725-b533-48ae-aafb-396d524af82d"
   },
   "outputs": [
    {
     "name": "stdout",
     "output_type": "stream",
     "text": [
      "Epoch 1/10\n",
      "\u001b[1m1250/1250\u001b[0m \u001b[32m━━━━━━━━━━━━━━━━━━━━\u001b[0m\u001b[37m\u001b[0m \u001b[1m104s\u001b[0m 83ms/step - accuracy: 0.4718 - loss: 1.0587 - val_accuracy: 0.4716 - val_loss: 1.0558\n",
      "Epoch 2/10\n",
      "\u001b[1m1250/1250\u001b[0m \u001b[32m━━━━━━━━━━━━━━━━━━━━\u001b[0m\u001b[37m\u001b[0m \u001b[1m96s\u001b[0m 77ms/step - accuracy: 0.4719 - loss: 1.0562 - val_accuracy: 0.4716 - val_loss: 1.0548\n",
      "Epoch 3/10\n",
      "\u001b[1m1250/1250\u001b[0m \u001b[32m━━━━━━━━━━━━━━━━━━━━\u001b[0m\u001b[37m\u001b[0m \u001b[1m93s\u001b[0m 74ms/step - accuracy: 0.4698 - loss: 1.0566 - val_accuracy: 0.4716 - val_loss: 1.0547\n",
      "Epoch 4/10\n",
      "\u001b[1m1250/1250\u001b[0m \u001b[32m━━━━━━━━━━━━━━━━━━━━\u001b[0m\u001b[37m\u001b[0m \u001b[1m96s\u001b[0m 77ms/step - accuracy: 0.4721 - loss: 1.0543 - val_accuracy: 0.4716 - val_loss: 1.0550\n",
      "Epoch 5/10\n",
      "\u001b[1m1250/1250\u001b[0m \u001b[32m━━━━━━━━━━━━━━━━━━━━\u001b[0m\u001b[37m\u001b[0m \u001b[1m94s\u001b[0m 75ms/step - accuracy: 0.4688 - loss: 1.0571 - val_accuracy: 0.4716 - val_loss: 1.0551\n",
      "Epoch 6/10\n",
      "\u001b[1m1250/1250\u001b[0m \u001b[32m━━━━━━━━━━━━━━━━━━━━\u001b[0m\u001b[37m\u001b[0m \u001b[1m97s\u001b[0m 77ms/step - accuracy: 0.4729 - loss: 1.0540 - val_accuracy: 0.4716 - val_loss: 1.0547\n",
      "Epoch 7/10\n",
      "\u001b[1m1250/1250\u001b[0m \u001b[32m━━━━━━━━━━━━━━━━━━━━\u001b[0m\u001b[37m\u001b[0m \u001b[1m97s\u001b[0m 78ms/step - accuracy: 0.4694 - loss: 1.0557 - val_accuracy: 0.4716 - val_loss: 1.0547\n",
      "Epoch 8/10\n",
      "\u001b[1m1250/1250\u001b[0m \u001b[32m━━━━━━━━━━━━━━━━━━━━\u001b[0m\u001b[37m\u001b[0m \u001b[1m93s\u001b[0m 75ms/step - accuracy: 0.4721 - loss: 1.0547 - val_accuracy: 0.4716 - val_loss: 1.0548\n",
      "Epoch 9/10\n",
      "\u001b[1m1250/1250\u001b[0m \u001b[32m━━━━━━━━━━━━━━━━━━━━\u001b[0m\u001b[37m\u001b[0m \u001b[1m98s\u001b[0m 78ms/step - accuracy: 0.4722 - loss: 1.0550 - val_accuracy: 0.4716 - val_loss: 1.0548\n",
      "Epoch 10/10\n",
      "\u001b[1m1250/1250\u001b[0m \u001b[32m━━━━━━━━━━━━━━━━━━━━\u001b[0m\u001b[37m\u001b[0m \u001b[1m97s\u001b[0m 77ms/step - accuracy: 0.4693 - loss: 1.0571 - val_accuracy: 0.4716 - val_loss: 1.0548\n"
     ]
    }
   ],
   "source": [
    "# ------------------------- #\n",
    "# 🔹 Train the Model\n",
    "# ------------------------- #\n",
    "EPOCHS = 10\n",
    "BATCH_SIZE = 32\n",
    "\n",
    "history = model.fit(X_train, y_train, validation_data=(X_test, y_test), epochs=EPOCHS, batch_size=BATCH_SIZE)\n"
   ]
  },
  {
   "cell_type": "code",
   "execution_count": 34,
   "metadata": {
    "colab": {
     "base_uri": "https://localhost:8080/"
    },
    "executionInfo": {
     "elapsed": 149,
     "status": "ok",
     "timestamp": 1739303892052,
     "user": {
      "displayName": "krishna kumar",
      "userId": "12899759664944682923"
     },
     "user_tz": -330
    },
    "id": "ON1dDO7Ilr52",
    "outputId": "0d6420f5-0b49-45f9-f426-2d0be42bd598"
   },
   "outputs": [
    {
     "name": "stderr",
     "output_type": "stream",
     "text": [
      "WARNING:absl:You are saving your model as an HDF5 file via `model.save()` or `keras.saving.save_model(model)`. This file format is considered legacy. We recommend using instead the native Keras format, e.g. `model.save('my_model.keras')` or `keras.saving.save_model(model, 'my_model.keras')`. \n"
     ]
    },
    {
     "name": "stdout",
     "output_type": "stream",
     "text": [
      "✅ LSTM model training complete! Model saved as 'lstm_sentiment_model.h5'\n"
     ]
    }
   ],
   "source": [
    "# ------------------------- #\n",
    "# 🔹 Save the Model\n",
    "# ------------------------- #\n",
    "model.save(\"lstm_sentiment_model.h5\")\n",
    "\n",
    "print(\"✅ LSTM model training complete! Model saved as 'lstm_sentiment_model.h5'\")"
   ]
  },
  {
   "cell_type": "markdown",
   "metadata": {
    "id": "UyyDQECAl9-q"
   },
   "source": [
    "**Evaluate LSTM Model**"
   ]
  },
  {
   "cell_type": "code",
   "execution_count": 36,
   "metadata": {
    "id": "4WZn041_mD-V"
   },
   "outputs": [],
   "source": [
    "import numpy as np\n",
    "import tensorflow as tf\n",
    "import matplotlib.pyplot as plt\n",
    "import seaborn as sns\n",
    "from sklearn.metrics import confusion_matrix, classification_report"
   ]
  },
  {
   "cell_type": "code",
   "execution_count": 38,
   "metadata": {
    "colab": {
     "base_uri": "https://localhost:8080/"
    },
    "executionInfo": {
     "elapsed": 194,
     "status": "ok",
     "timestamp": 1739303996220,
     "user": {
      "displayName": "krishna kumar",
      "userId": "12899759664944682923"
     },
     "user_tz": -330
    },
    "id": "PGP29zX3mIYJ",
    "outputId": "49ecddab-ef8f-4819-87f0-d70154bd9528"
   },
   "outputs": [
    {
     "name": "stderr",
     "output_type": "stream",
     "text": [
      "WARNING:absl:Compiled the loaded model, but the compiled metrics have yet to be built. `model.compile_metrics` will be empty until you train or evaluate the model.\n"
     ]
    }
   ],
   "source": [
    "# ------------------------- #\n",
    "# 🔹 Load Model & Data\n",
    "# ------------------------- #\n",
    "# Load preprocessed data\n",
    "data = np.load(\"preprocessed_data.npz\")\n",
    "X_test, y_test = data[\"X_test\"], data[\"y_test\"]\n",
    "\n",
    "# Load trained LSTM model\n",
    "model = tf.keras.models.load_model(\"lstm_sentiment_model.h5\")"
   ]
  },
  {
   "cell_type": "code",
   "execution_count": 40,
   "metadata": {
    "colab": {
     "base_uri": "https://localhost:8080/"
    },
    "executionInfo": {
     "elapsed": 25331,
     "status": "ok",
     "timestamp": 1739304043337,
     "user": {
      "displayName": "krishna kumar",
      "userId": "12899759664944682923"
     },
     "user_tz": -330
    },
    "id": "D9fZ69HQmOqX",
    "outputId": "5818ce0d-99ae-4e1c-c87b-0c3565be4f94"
   },
   "outputs": [
    {
     "name": "stdout",
     "output_type": "stream",
     "text": [
      "\u001b[1m313/313\u001b[0m \u001b[32m━━━━━━━━━━━━━━━━━━━━\u001b[0m\u001b[37m\u001b[0m \u001b[1m7s\u001b[0m 21ms/step\n"
     ]
    }
   ],
   "source": [
    "# ------------------------- #\n",
    "# 🔹 Make Predictions\n",
    "# ------------------------- #\n",
    "y_pred_probs = model.predict(X_test)\n",
    "y_pred = np.argmax(y_pred_probs, axis=1)  # Convert probabilities to class labels"
   ]
  },
  {
   "cell_type": "code",
   "execution_count": 42,
   "metadata": {
    "colab": {
     "base_uri": "https://localhost:8080/"
    },
    "executionInfo": {
     "elapsed": 39,
     "status": "ok",
     "timestamp": 1739304051804,
     "user": {
      "displayName": "krishna kumar",
      "userId": "12899759664944682923"
     },
     "user_tz": -330
    },
    "id": "lZJ0dcMFmZYR",
    "outputId": "513ffbb3-a84c-4141-bb74-ceb9c9f86266"
   },
   "outputs": [
    {
     "name": "stdout",
     "output_type": "stream",
     "text": [
      "LSTM Model Classification Report:\n",
      "              precision    recall  f1-score   support\n",
      "\n",
      "    Negative       0.00      0.00      0.00      2353\n",
      "    Positive       0.47      1.00      0.64      4716\n",
      "     Neutral       0.00      0.00      0.00      2931\n",
      "\n",
      "    accuracy                           0.47     10000\n",
      "   macro avg       0.16      0.33      0.21     10000\n",
      "weighted avg       0.22      0.47      0.30     10000\n",
      "\n"
     ]
    },
    {
     "name": "stderr",
     "output_type": "stream",
     "text": [
      "/opt/anaconda3/lib/python3.12/site-packages/sklearn/metrics/_classification.py:1509: UndefinedMetricWarning: Precision is ill-defined and being set to 0.0 in labels with no predicted samples. Use `zero_division` parameter to control this behavior.\n",
      "  _warn_prf(average, modifier, f\"{metric.capitalize()} is\", len(result))\n",
      "/opt/anaconda3/lib/python3.12/site-packages/sklearn/metrics/_classification.py:1509: UndefinedMetricWarning: Precision is ill-defined and being set to 0.0 in labels with no predicted samples. Use `zero_division` parameter to control this behavior.\n",
      "  _warn_prf(average, modifier, f\"{metric.capitalize()} is\", len(result))\n",
      "/opt/anaconda3/lib/python3.12/site-packages/sklearn/metrics/_classification.py:1509: UndefinedMetricWarning: Precision is ill-defined and being set to 0.0 in labels with no predicted samples. Use `zero_division` parameter to control this behavior.\n",
      "  _warn_prf(average, modifier, f\"{metric.capitalize()} is\", len(result))\n"
     ]
    }
   ],
   "source": [
    "# ------------------------- #\n",
    "# 🔹 Evaluate Model\n",
    "# ------------------------- #\n",
    "print(\"LSTM Model Classification Report:\")\n",
    "print(classification_report(y_test, y_pred, target_names=[\"Negative\", \"Positive\", \"Neutral\"]))"
   ]
  },
  {
   "cell_type": "code",
   "execution_count": 44,
   "metadata": {
    "colab": {
     "base_uri": "https://localhost:8080/",
     "height": 410
    },
    "executionInfo": {
     "elapsed": 988,
     "status": "ok",
     "timestamp": 1739304074822,
     "user": {
      "displayName": "krishna kumar",
      "userId": "12899759664944682923"
     },
     "user_tz": -330
    },
    "id": "gJs4tCT1mci4",
    "outputId": "02eba64f-77f0-4f1b-a292-3283b441ae22"
   },
   "outputs": [
    {
     "data": {
      "image/png": "[encoded data removed]",
      "text/plain": [
       "<Figure size 600x400 with 2 Axes>"
      ]
     },
     "metadata": {},
     "output_type": "display_data"
    }
   ],
   "source": [
    "# Confusion Matrix\n",
    "cm = confusion_matrix(y_test, y_pred)\n",
    "\n",
    "# ------------------------- #\n",
    "# 🔹 Plot Confusion Matrix\n",
    "# ------------------------- #\n",
    "plt.figure(figsize=(6, 4))\n",
    "sns.heatmap(cm, annot=True, fmt=\"d\", cmap=\"Blues\", xticklabels=[\"Negative\", \"Positive\", \"Neutral\"], yticklabels=[\"Negative\", \"Positive\", \"Neutral\"])\n",
    "plt.xlabel(\"Predicted\")\n",
    "plt.ylabel(\"Actual\")\n",
    "plt.title(\"Confusion Matrix - LSTM Model\")\n",
    "plt.show()"
   ]
  },
  {
   "cell_type": "markdown",
   "metadata": {
    "id": "FvY6PZQ3nHdX"
   },
   "source": [
    "**Train CNN Model for Sentiment Analysis**"
   ]
  },
  {
   "cell_type": "code",
   "execution_count": 46,
   "metadata": {
    "executionInfo": {
     "elapsed": 370,
     "status": "ok",
     "timestamp": 1739304278912,
     "user": {
      "displayName": "krishna kumar",
      "userId": "12899759664944682923"
     },
     "user_tz": -330
    },
    "id": "bPkH1nhYnOHS"
   },
   "outputs": [],
   "source": [
    "import numpy as np\n",
    "import tensorflow as tf\n",
    "from tensorflow.keras.models import Sequential\n",
    "from tensorflow.keras.layers import Embedding, Conv1D, MaxPooling1D, Flatten, Dense, Dropout\n",
    "from tensorflow.keras.optimizers import Adam\n",
    "import pickle"
   ]
  },
  {
   "cell_type": "code",
   "execution_count": 48,
   "metadata": {
    "executionInfo": {
     "elapsed": 400,
     "status": "ok",
     "timestamp": 1739304293719,
     "user": {
      "displayName": "krishna kumar",
      "userId": "12899759664944682923"
     },
     "user_tz": -330
    },
    "id": "Vkxd8rbSnSXb"
   },
   "outputs": [],
   "source": [
    "# ------------------------- #\n",
    "# 🔹 Load Preprocessed Data\n",
    "# ------------------------- #\n",
    "data = np.load(\"preprocessed_data.npz\")\n",
    "X_train, X_test, y_train, y_test = data[\"X_train\"], data[\"X_test\"], data[\"y_train\"], data[\"y_test\"]"
   ]
  },
  {
   "cell_type": "code",
   "execution_count": 50,
   "metadata": {
    "executionInfo": {
     "elapsed": 394,
     "status": "ok",
     "timestamp": 1739304310184,
     "user": {
      "displayName": "krishna kumar",
      "userId": "12899759664944682923"
     },
     "user_tz": -330
    },
    "id": "hCg7R77mnV0M"
   },
   "outputs": [],
   "source": [
    "# Load Tokenizer\n",
    "with open(\"tokenizer.pkl\", \"rb\") as f:\n",
    "    tokenizer = pickle.load(f)\n",
    "\n",
    "VOCAB_SIZE = 10000  # Same as in preprocessing\n",
    "MAX_LEN = 100  # Same as in preprocessing\n",
    "EMBEDDING_DIM = 128  # Word embedding size"
   ]
  },
  {
   "cell_type": "code",
   "execution_count": 52,
   "metadata": {
    "colab": {
     "base_uri": "https://localhost:8080/"
    },
    "executionInfo": {
     "elapsed": 389,
     "status": "ok",
     "timestamp": 1739304331037,
     "user": {
      "displayName": "krishna kumar",
      "userId": "12899759664944682923"
     },
     "user_tz": -330
    },
    "id": "v2mbqz39naPC",
    "outputId": "d4ce830c-6592-46ab-e640-607172501133"
   },
   "outputs": [
    {
     "name": "stderr",
     "output_type": "stream",
     "text": [
      "/opt/anaconda3/lib/python3.12/site-packages/keras/src/layers/core/embedding.py:90: UserWarning: Argument `input_length` is deprecated. Just remove it.\n",
      "  warnings.warn(\n"
     ]
    }
   ],
   "source": [
    "# ------------------------- #\n",
    "# 🔹 Define CNN Model\n",
    "# ------------------------- #\n",
    "model = Sequential([\n",
    "    Embedding(VOCAB_SIZE, EMBEDDING_DIM, input_length=MAX_LEN),\n",
    "    Conv1D(filters=128, kernel_size=5, activation=\"relu\"),\n",
    "    MaxPooling1D(pool_size=2),\n",
    "    Conv1D(filters=64, kernel_size=3, activation=\"relu\"),\n",
    "    MaxPooling1D(pool_size=2),\n",
    "    Flatten(),\n",
    "    Dense(64, activation=\"relu\"),\n",
    "    Dropout(0.3),\n",
    "    Dense(3, activation=\"softmax\")  # 3 classes: positive, negative, neutral\n",
    "])\n",
    "\n",
    "model.compile(loss=\"sparse_categorical_crossentropy\", optimizer=Adam(learning_rate=0.001), metrics=[\"accuracy\"])"
   ]
  },
  {
   "cell_type": "code",
   "execution_count": 54,
   "metadata": {
    "colab": {
     "base_uri": "https://localhost:8080/"
    },
    "executionInfo": {
     "elapsed": 1215960,
     "status": "ok",
     "timestamp": 1739305567773,
     "user": {
      "displayName": "krishna kumar",
      "userId": "12899759664944682923"
     },
     "user_tz": -330
    },
    "id": "AQQPlN64nfVP",
    "outputId": "88db5301-7773-4c6b-f9a5-9627263740b6"
   },
   "outputs": [
    {
     "name": "stdout",
     "output_type": "stream",
     "text": [
      "Epoch 1/10\n",
      "\u001b[1m1250/1250\u001b[0m \u001b[32m━━━━━━━━━━━━━━━━━━━━\u001b[0m\u001b[37m\u001b[0m \u001b[1m15s\u001b[0m 11ms/step - accuracy: 0.6969 - loss: 0.6880 - val_accuracy: 0.9207 - val_loss: 0.2613\n",
      "Epoch 2/10\n",
      "\u001b[1m1250/1250\u001b[0m \u001b[32m━━━━━━━━━━━━━━━━━━━━\u001b[0m\u001b[37m\u001b[0m \u001b[1m16s\u001b[0m 13ms/step - accuracy: 0.9370 - loss: 0.2098 - val_accuracy: 0.9329 - val_loss: 0.2297\n",
      "Epoch 3/10\n",
      "\u001b[1m1250/1250\u001b[0m \u001b[32m━━━━━━━━━━━━━━━━━━━━\u001b[0m\u001b[37m\u001b[0m \u001b[1m15s\u001b[0m 12ms/step - accuracy: 0.9601 - loss: 0.1276 - val_accuracy: 0.9289 - val_loss: 0.2617\n",
      "Epoch 4/10\n",
      "\u001b[1m1250/1250\u001b[0m \u001b[32m━━━━━━━━━━━━━━━━━━━━\u001b[0m\u001b[37m\u001b[0m \u001b[1m15s\u001b[0m 12ms/step - accuracy: 0.9697 - loss: 0.0936 - val_accuracy: 0.9303 - val_loss: 0.2944\n",
      "Epoch 5/10\n",
      "\u001b[1m1250/1250\u001b[0m \u001b[32m━━━━━━━━━━━━━━━━━━━━\u001b[0m\u001b[37m\u001b[0m \u001b[1m15s\u001b[0m 12ms/step - accuracy: 0.9781 - loss: 0.0675 - val_accuracy: 0.9300 - val_loss: 0.2997\n",
      "Epoch 6/10\n",
      "\u001b[1m1250/1250\u001b[0m \u001b[32m━━━━━━━━━━━━━━━━━━━━\u001b[0m\u001b[37m\u001b[0m \u001b[1m16s\u001b[0m 13ms/step - accuracy: 0.9813 - loss: 0.0527 - val_accuracy: 0.9258 - val_loss: 0.3547\n",
      "Epoch 7/10\n",
      "\u001b[1m1250/1250\u001b[0m \u001b[32m━━━━━━━━━━━━━━━━━━━━\u001b[0m\u001b[37m\u001b[0m \u001b[1m17s\u001b[0m 13ms/step - accuracy: 0.9842 - loss: 0.0475 - val_accuracy: 0.9210 - val_loss: 0.4144\n",
      "Epoch 8/10\n",
      "\u001b[1m1250/1250\u001b[0m \u001b[32m━━━━━━━━━━━━━━━━━━━━\u001b[0m\u001b[37m\u001b[0m \u001b[1m18s\u001b[0m 15ms/step - accuracy: 0.9869 - loss: 0.0373 - val_accuracy: 0.9224 - val_loss: 0.4585\n",
      "Epoch 9/10\n",
      "\u001b[1m1250/1250\u001b[0m \u001b[32m━━━━━━━━━━━━━━━━━━━━\u001b[0m\u001b[37m\u001b[0m \u001b[1m19s\u001b[0m 15ms/step - accuracy: 0.9876 - loss: 0.0365 - val_accuracy: 0.9128 - val_loss: 0.5816\n",
      "Epoch 10/10\n",
      "\u001b[1m1250/1250\u001b[0m \u001b[32m━━━━━━━━━━━━━━━━━━━━\u001b[0m\u001b[37m\u001b[0m \u001b[1m16s\u001b[0m 13ms/step - accuracy: 0.9912 - loss: 0.0278 - val_accuracy: 0.9081 - val_loss: 0.5378\n"
     ]
    }
   ],
   "source": [
    "# ------------------------- #\n",
    "# 🔹 Train the Model\n",
    "# ------------------------- #\n",
    "EPOCHS = 10\n",
    "BATCH_SIZE = 32\n",
    "\n",
    "history = model.fit(X_train, y_train, validation_data=(X_test, y_test), epochs=EPOCHS, batch_size=BATCH_SIZE)"
   ]
  },
  {
   "cell_type": "code",
   "execution_count": 56,
   "metadata": {
    "colab": {
     "base_uri": "https://localhost:8080/"
    },
    "executionInfo": {
     "elapsed": 359,
     "status": "ok",
     "timestamp": 1739305586424,
     "user": {
      "displayName": "krishna kumar",
      "userId": "12899759664944682923"
     },
     "user_tz": -330
    },
    "id": "vhBHdDzmsP8g",
    "outputId": "290037b7-bbf2-491b-e2c0-0b0e9464c43a"
   },
   "outputs": [
    {
     "name": "stderr",
     "output_type": "stream",
     "text": [
      "WARNING:absl:You are saving your model as an HDF5 file via `model.save()` or `keras.saving.save_model(model)`. This file format is considered legacy. We recommend using instead the native Keras format, e.g. `model.save('my_model.keras')` or `keras.saving.save_model(model, 'my_model.keras')`. \n"
     ]
    },
    {
     "name": "stdout",
     "output_type": "stream",
     "text": [
      "✅ CNN model training complete! Model saved as 'cnn_sentiment_model.h5'\n"
     ]
    }
   ],
   "source": [
    "# ------------------------- #\n",
    "# 🔹 Save the Model\n",
    "# ------------------------- #\n",
    "model.save(\"cnn_sentiment_model.h5\")\n",
    "\n",
    "print(\"✅ CNN model training complete! Model saved as 'cnn_sentiment_model.h5'\")"
   ]
  },
  {
   "cell_type": "markdown",
   "metadata": {
    "id": "xbxqij3rsVwe"
   },
   "source": [
    "**Evaluate CNN Model with Confusion Matrix**"
   ]
  },
  {
   "cell_type": "code",
   "execution_count": 58,
   "metadata": {
    "executionInfo": {
     "elapsed": 361,
     "status": "ok",
     "timestamp": 1739305626711,
     "user": {
      "displayName": "krishna kumar",
      "userId": "12899759664944682923"
     },
     "user_tz": -330
    },
    "id": "P_8HldP6sXbB"
   },
   "outputs": [],
   "source": [
    "import numpy as np\n",
    "import tensorflow as tf\n",
    "import matplotlib.pyplot as plt\n",
    "import seaborn as sns\n",
    "from sklearn.metrics import confusion_matrix, classification_report"
   ]
  },
  {
   "cell_type": "code",
   "execution_count": 60,
   "metadata": {
    "colab": {
     "base_uri": "https://localhost:8080/"
    },
    "executionInfo": {
     "elapsed": 438,
     "status": "ok",
     "timestamp": 1739305646250,
     "user": {
      "displayName": "krishna kumar",
      "userId": "12899759664944682923"
     },
     "user_tz": -330
    },
    "id": "ZbjD1f2EsbuY",
    "outputId": "89913d01-7725-4efd-be19-8cd947113ce1"
   },
   "outputs": [
    {
     "name": "stderr",
     "output_type": "stream",
     "text": [
      "WARNING:absl:Compiled the loaded model, but the compiled metrics have yet to be built. `model.compile_metrics` will be empty until you train or evaluate the model.\n"
     ]
    }
   ],
   "source": [
    "# ------------------------- #\n",
    "# 🔹 Load Model & Data\n",
    "# ------------------------- #\n",
    "# Load preprocessed data\n",
    "data = np.load(\"preprocessed_data.npz\")\n",
    "X_test, y_test = data[\"X_test\"], data[\"y_test\"]\n",
    "\n",
    "# Load trained CNN model\n",
    "model = tf.keras.models.load_model(\"cnn_sentiment_model.h5\")"
   ]
  },
  {
   "cell_type": "code",
   "execution_count": 62,
   "metadata": {
    "colab": {
     "base_uri": "https://localhost:8080/"
    },
    "executionInfo": {
     "elapsed": 5268,
     "status": "ok",
     "timestamp": 1739305673271,
     "user": {
      "displayName": "krishna kumar",
      "userId": "12899759664944682923"
     },
     "user_tz": -330
    },
    "id": "-4qi2voLsgHG",
    "outputId": "efa12973-6775-4ad4-a300-1edbc8a32701"
   },
   "outputs": [
    {
     "name": "stdout",
     "output_type": "stream",
     "text": [
      "\u001b[1m313/313\u001b[0m \u001b[32m━━━━━━━━━━━━━━━━━━━━\u001b[0m\u001b[37m\u001b[0m \u001b[1m1s\u001b[0m 3ms/step\n"
     ]
    }
   ],
   "source": [
    "# ------------------------- #\n",
    "# 🔹 Make Predictions\n",
    "# ------------------------- #\n",
    "y_pred_probs = model.predict(X_test)\n",
    "y_pred = np.argmax(y_pred_probs, axis=1)  # Convert probabilities to class labels"
   ]
  },
  {
   "cell_type": "code",
   "execution_count": 64,
   "metadata": {
    "colab": {
     "base_uri": "https://localhost:8080/"
    },
    "executionInfo": {
     "elapsed": 378,
     "status": "ok",
     "timestamp": 1739305692007,
     "user": {
      "displayName": "krishna kumar",
      "userId": "12899759664944682923"
     },
     "user_tz": -330
    },
    "id": "ZjyUbSVVsmtp",
    "outputId": "5091bd16-5b6e-4aee-b7c4-a7aed8b69beb"
   },
   "outputs": [
    {
     "name": "stdout",
     "output_type": "stream",
     "text": [
      "CNN Model Classification Report:\n",
      "              precision    recall  f1-score   support\n",
      "\n",
      "    Negative       0.88      0.89      0.88      2353\n",
      "    Positive       0.95      0.92      0.93      4716\n",
      "     Neutral       0.86      0.91      0.89      2931\n",
      "\n",
      "    accuracy                           0.91     10000\n",
      "   macro avg       0.90      0.91      0.90     10000\n",
      "weighted avg       0.91      0.91      0.91     10000\n",
      "\n"
     ]
    }
   ],
   "source": [
    "# 🔹 Evaluate Model\n",
    "# ------------------------- #\n",
    "print(\"CNN Model Classification Report:\")\n",
    "print(classification_report(y_test, y_pred, target_names=[\"Negative\", \"Positive\", \"Neutral\"]))"
   ]
  },
  {
   "cell_type": "code",
   "execution_count": 66,
   "metadata": {
    "colab": {
     "base_uri": "https://localhost:8080/",
     "height": 410
    },
    "executionInfo": {
     "elapsed": 1161,
     "status": "ok",
     "timestamp": 1739305721720,
     "user": {
      "displayName": "krishna kumar",
      "userId": "12899759664944682923"
     },
     "user_tz": -330
    },
    "id": "CGrVfXePssV8",
    "outputId": "c6e996d8-612e-49b9-85c3-532419b59827"
   },
   "outputs": [
    {
     "data": {
      "image/png": "[encoded data removed]",
      "text/plain": [
       "<Figure size 600x400 with 2 Axes>"
      ]
     },
     "metadata": {},
     "output_type": "display_data"
    }
   ],
   "source": [
    "# Confusion Matrix\n",
    "cm = confusion_matrix(y_test, y_pred)\n",
    "\n",
    "# ------------------------- #\n",
    "# 🔹 Plot Confusion Matrix\n",
    "# ------------------------- #\n",
    "plt.figure(figsize=(6, 4))\n",
    "sns.heatmap(cm, annot=True, fmt=\"d\", cmap=\"Blues\", xticklabels=[\"Negative\", \"Positive\", \"Neutral\"], yticklabels=[\"Negative\", \"Positive\", \"Neutral\"])\n",
    "plt.xlabel(\"Predicted\")\n",
    "plt.ylabel(\"Actual\")\n",
    "plt.title(\"Confusion Matrix - CNN Model\")\n",
    "plt.show()"
   ]
  },
  {
   "cell_type": "code",
   "execution_count": null,
   "metadata": {},
   "outputs": [],
   "source": []
  }
 ],
 "metadata": {
  "colab": {
   "authorship_tag": "ABX9TyPGwagVBlzAYmGTcpk4eqty",
   "mount_file_id": "1zHlIFjT7psvSr9DOWC-wB352z0SVQRIL",
   "provenance": []
  },
  "kernelspec": {
   "display_name": "Python 3 (ipykernel)",
   "language": "python",
   "name": "python3"
  },
  "language_info": {
   "codemirror_mode": {
    "name": "ipython",
    "version": 3
   },
   "file_extension": ".py",
   "mimetype": "text/x-python",
   "name": "python",
   "nbconvert_exporter": "python",
   "pygments_lexer": "ipython3",
   "version": "3.12.4"
  }
 },
 "nbformat": 4,
 "nbformat_minor": 4
}

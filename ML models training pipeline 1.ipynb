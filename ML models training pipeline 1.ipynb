{
 "cells": [
  {
   "cell_type": "code",
   "execution_count": 23,
   "metadata": {
    "executionInfo": {
     "elapsed": 4624,
     "status": "ok",
     "timestamp": 1739299469628,
     "user": {
      "displayName": "krishna kumar",
      "userId": "12899759664944682923"
     },
     "user_tz": -330
    },
    "id": "LTIw5QdeN5nA"
   },
   "outputs": [],
   "source": [
    "import pandas as pd\n",
    "import numpy as np\n",
    "import re\n",
    "import string\n",
    "from sklearn.model_selection import train_test_split\n",
    "from sklearn.feature_extraction.text import TfidfVectorizer\n",
    "from sklearn.linear_model import LogisticRegression\n",
    "from sklearn.naive_bayes import MultinomialNB\n",
    "from sklearn.svm import SVC\n",
    "from sklearn.ensemble import RandomForestClassifier\n",
    "from sklearn.metrics import accuracy_score, classification_report"
   ]
  },
  {
   "cell_type": "code",
   "execution_count": 25,
   "metadata": {
    "executionInfo": {
     "elapsed": 2050,
     "status": "ok",
     "timestamp": 1739299473101,
     "user": {
      "displayName": "krishna kumar",
      "userId": "12899759664944682923"
     },
     "user_tz": -330
    },
    "id": "-9DvRMhwN7DX"
   },
   "outputs": [],
   "source": [
    "# Load labeled dataset\n",
    "FILE_PATH = \"IndianFinancialNews_with_sentiment.csv\"\n",
    "df = pd.read_csv(FILE_PATH)"
   ]
  },
  {
   "cell_type": "code",
   "execution_count": 27,
   "metadata": {
    "executionInfo": {
     "elapsed": 3728,
     "status": "ok",
     "timestamp": 1739299478597,
     "user": {
      "displayName": "krishna kumar",
      "userId": "12899759664944682923"
     },
     "user_tz": -330
    },
    "id": "o--UOWOpOFGF"
   },
   "outputs": [],
   "source": [
    "# ------------------------- #\n",
    "# 🔹 Text Preprocessing\n",
    "# ------------------------- #\n",
    "def clean_text(text):\n",
    "    text = text.lower()  # Convert to lowercase\n",
    "    text = re.sub(r'\\d+', '', text)  # Remove numbers\n",
    "    text = text.translate(str.maketrans('', '', string.punctuation))  # Remove punctuation\n",
    "    text = re.sub(r'\\s+', ' ', text).strip()  # Remove extra spaces\n",
    "    return text\n",
    "\n",
    "df[\"Cleaned_Text\"] = df[\"Text\"].apply(clean_text)"
   ]
  },
  {
   "cell_type": "code",
   "execution_count": 29,
   "metadata": {
    "executionInfo": {
     "elapsed": 33,
     "status": "ok",
     "timestamp": 1739299480964,
     "user": {
      "displayName": "krishna kumar",
      "userId": "12899759664944682923"
     },
     "user_tz": -330
    },
    "id": "4BK-L9xeOKuO"
   },
   "outputs": [],
   "source": [
    "# ------------------------- #\n",
    "# 🔹 Convert Labels to Numeric\n",
    "# ------------------------- #\n",
    "label_mapping = {\"positive\": 1, \"negative\": 0, \"neutral\": 2}  # Neutral = 2 (optional)\n",
    "df[\"Sentiment_Label\"] = df[\"Sentiment\"].map(label_mapping)"
   ]
  },
  {
   "cell_type": "code",
   "execution_count": 31,
   "metadata": {
    "executionInfo": {
     "elapsed": 13,
     "status": "ok",
     "timestamp": 1739299482611,
     "user": {
      "displayName": "krishna kumar",
      "userId": "12899759664944682923"
     },
     "user_tz": -330
    },
    "id": "gYO2Qz77OVB-"
   },
   "outputs": [],
   "source": [
    "# ------------------------- #\n",
    "# 🔹 Train-Test Split\n",
    "# ------------------------- #\n",
    "X_train, X_test, y_train, y_test = train_test_split(df[\"Cleaned_Text\"], df[\"Sentiment_Label\"], test_size=0.2, random_state=42)"
   ]
  },
  {
   "cell_type": "code",
   "execution_count": 33,
   "metadata": {
    "executionInfo": {
     "elapsed": 2270,
     "status": "ok",
     "timestamp": 1739299486711,
     "user": {
      "displayName": "krishna kumar",
      "userId": "12899759664944682923"
     },
     "user_tz": -330
    },
    "id": "NMxrpvjvOWTX"
   },
   "outputs": [],
   "source": [
    "# ------------------------- #\n",
    "# 🔹 Convert Text to Vectors (TF-IDF)\n",
    "# ------------------------- #\n",
    "vectorizer = TfidfVectorizer(max_features=5000)\n",
    "X_train_tfidf = vectorizer.fit_transform(X_train)\n",
    "X_test_tfidf = vectorizer.transform(X_test)"
   ]
  },
  {
   "cell_type": "code",
   "execution_count": 35,
   "metadata": {
    "executionInfo": {
     "elapsed": 4,
     "status": "ok",
     "timestamp": 1739299488624,
     "user": {
      "displayName": "krishna kumar",
      "userId": "12899759664944682923"
     },
     "user_tz": -330
    },
    "id": "onLs2bVBOgmX"
   },
   "outputs": [],
   "source": [
    "# ------------------------- #\n",
    "# 🔹 Train & Evaluate ML Models\n",
    "# ------------------------- #\n",
    "def train_and_evaluate(model, name):\n",
    "    model.fit(X_train_tfidf, y_train)\n",
    "    y_pred = model.predict(X_test_tfidf)\n",
    "    accuracy = accuracy_score(y_test, y_pred)\n",
    "    print(f\"\\n{name} Accuracy: {accuracy:.4f}\")\n",
    "    print(classification_report(y_test, y_pred))"
   ]
  },
  {
   "cell_type": "code",
   "execution_count": 37,
   "metadata": {
    "colab": {
     "base_uri": "https://localhost:8080/"
    },
    "executionInfo": {
     "elapsed": 4068,
     "status": "ok",
     "timestamp": 1739299494901,
     "user": {
      "displayName": "krishna kumar",
      "userId": "12899759664944682923"
     },
     "user_tz": -330
    },
    "id": "d7AvlOr8OluE",
    "outputId": "2c7c0fd7-38b6-4c8d-cf47-48263fd68465"
   },
   "outputs": [
    {
     "name": "stdout",
     "output_type": "stream",
     "text": [
      "\n",
      "Logistic Regression Accuracy: 0.8572\n",
      "              precision    recall  f1-score   support\n",
      "\n",
      "           0       0.86      0.73      0.79      2353\n",
      "           1       0.89      0.90      0.89      4716\n",
      "           2       0.80      0.90      0.85      2931\n",
      "\n",
      "    accuracy                           0.86     10000\n",
      "   macro avg       0.85      0.84      0.84     10000\n",
      "weighted avg       0.86      0.86      0.86     10000\n",
      "\n"
     ]
    },
    {
     "name": "stderr",
     "output_type": "stream",
     "text": [
      "/opt/anaconda3/lib/python3.12/site-packages/sklearn/linear_model/_logistic.py:469: ConvergenceWarning: lbfgs failed to converge (status=1):\n",
      "STOP: TOTAL NO. of ITERATIONS REACHED LIMIT.\n",
      "\n",
      "Increase the number of iterations (max_iter) or scale the data as shown in:\n",
      "    https://scikit-learn.org/stable/modules/preprocessing.html\n",
      "Please also refer to the documentation for alternative solver options:\n",
      "    https://scikit-learn.org/stable/modules/linear_model.html#logistic-regression\n",
      "  n_iter_i = _check_optimize_result(\n"
     ]
    }
   ],
   "source": [
    "# Logistic Regression\n",
    "train_and_evaluate(LogisticRegression(), \"Logistic Regression\")"
   ]
  },
  {
   "cell_type": "code",
   "execution_count": 39,
   "metadata": {
    "colab": {
     "base_uri": "https://localhost:8080/"
    },
    "executionInfo": {
     "elapsed": 23,
     "status": "ok",
     "timestamp": 1739299497316,
     "user": {
      "displayName": "krishna kumar",
      "userId": "12899759664944682923"
     },
     "user_tz": -330
    },
    "id": "xDuYjbsVOrhP",
    "outputId": "ae9adc21-8200-4c35-afab-7b49d4073ce1"
   },
   "outputs": [
    {
     "name": "stdout",
     "output_type": "stream",
     "text": [
      "\n",
      "Naïve Bayes Accuracy: 0.7084\n",
      "              precision    recall  f1-score   support\n",
      "\n",
      "           0       0.75      0.52      0.62      2353\n",
      "           1       0.67      0.91      0.77      4716\n",
      "           2       0.79      0.54      0.64      2931\n",
      "\n",
      "    accuracy                           0.71     10000\n",
      "   macro avg       0.74      0.66      0.68     10000\n",
      "weighted avg       0.73      0.71      0.70     10000\n",
      "\n"
     ]
    }
   ],
   "source": [
    "# Naïve Bayes\n",
    "train_and_evaluate(MultinomialNB(), \"Naïve Bayes\")"
   ]
  },
  {
   "cell_type": "code",
   "execution_count": 41,
   "metadata": {
    "colab": {
     "base_uri": "https://localhost:8080/"
    },
    "executionInfo": {
     "elapsed": 470765,
     "status": "ok",
     "timestamp": 1739299970129,
     "user": {
      "displayName": "krishna kumar",
      "userId": "12899759664944682923"
     },
     "user_tz": -330
    },
    "id": "LU9ijITBOwEY",
    "outputId": "b5081b10-9763-482a-e964-81f3b0f2003c"
   },
   "outputs": [
    {
     "name": "stdout",
     "output_type": "stream",
     "text": [
      "\n",
      "SVM Accuracy: 0.8905\n",
      "              precision    recall  f1-score   support\n",
      "\n",
      "           0       0.88      0.79      0.83      2353\n",
      "           1       0.93      0.91      0.92      4716\n",
      "           2       0.84      0.95      0.89      2931\n",
      "\n",
      "    accuracy                           0.89     10000\n",
      "   macro avg       0.88      0.88      0.88     10000\n",
      "weighted avg       0.89      0.89      0.89     10000\n",
      "\n"
     ]
    }
   ],
   "source": [
    "# SVM\n",
    "train_and_evaluate(SVC(kernel=\"linear\"), \"SVM\")"
   ]
  },
  {
   "cell_type": "code",
   "execution_count": 43,
   "metadata": {
    "colab": {
     "base_uri": "https://localhost:8080/"
    },
    "executionInfo": {
     "elapsed": 70795,
     "status": "ok",
     "timestamp": 1739300049430,
     "user": {
      "displayName": "krishna kumar",
      "userId": "12899759664944682923"
     },
     "user_tz": -330
    },
    "id": "hnHfB_XeO-Or",
    "outputId": "6818972f-d888-408e-d59b-9a3829bb3fb6"
   },
   "outputs": [
    {
     "name": "stdout",
     "output_type": "stream",
     "text": [
      "\n",
      "Random Forest Accuracy: 0.8088\n",
      "              precision    recall  f1-score   support\n",
      "\n",
      "           0       0.84      0.63      0.72      2353\n",
      "           1       0.86      0.83      0.85      4716\n",
      "           2       0.73      0.91      0.81      2931\n",
      "\n",
      "    accuracy                           0.81     10000\n",
      "   macro avg       0.81      0.79      0.79     10000\n",
      "weighted avg       0.82      0.81      0.81     10000\n",
      "\n"
     ]
    }
   ],
   "source": [
    "# Random Forest\n",
    "train_and_evaluate(RandomForestClassifier(n_estimators=100), \"Random Forest\")"
   ]
  }
 ],
 "metadata": {
  "accelerator": "GPU",
  "colab": {
   "authorship_tag": "ABX9TyOLeJU6Hxx0KXhE09YgPhLO",
   "gpuType": "T4",
   "mount_file_id": "17CGmEqgL6XbSoF0XvVAf4IeIKn2AMjGX",
   "provenance": []
  },
  "kernelspec": {
   "display_name": "Python 3 (ipykernel)",
   "language": "python",
   "name": "python3"
  },
  "language_info": {
   "codemirror_mode": {
    "name": "ipython",
    "version": 3
   },
   "file_extension": ".py",
   "mimetype": "text/x-python",
   "name": "python",
   "nbconvert_exporter": "python",
   "pygments_lexer": "ipython3",
   "version": "3.12.4"
  }
 },
 "nbformat": 4,
 "nbformat_minor": 4
}
